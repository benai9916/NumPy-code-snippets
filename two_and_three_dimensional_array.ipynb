{
 "cells": [
  {
   "cell_type": "markdown",
   "metadata": {},
   "source": [
    "## Two dimensional arrays"
   ]
  },
  {
   "cell_type": "code",
   "execution_count": 183,
   "metadata": {},
   "outputs": [],
   "source": [
    "import numpy as np"
   ]
  },
  {
   "cell_type": "code",
   "execution_count": 184,
   "metadata": {},
   "outputs": [
    {
     "data": {
      "text/plain": [
       "array([[ 0,  1,  2,  3,  4],\n",
       "       [ 5,  6,  7,  8,  9],\n",
       "       [10, 11, 12, 13, 14],\n",
       "       [15, 16, 17, 18, 19],\n",
       "       [20, 21, 22, 23, 24],\n",
       "       [25, 26, 27, 28, 29],\n",
       "       [30, 31, 32, 33, 34]])"
      ]
     },
     "execution_count": 184,
     "metadata": {},
     "output_type": "execute_result"
    }
   ],
   "source": [
    "my_array = np.arange(35)\n",
    "my_array.shape = (7,5)\n",
    "my_array"
   ]
  },
  {
   "cell_type": "code",
   "execution_count": 185,
   "metadata": {},
   "outputs": [
    {
     "data": {
      "text/plain": [
       "array([10, 11, 12, 13, 14])"
      ]
     },
     "execution_count": 185,
     "metadata": {},
     "output_type": "execute_result"
    }
   ],
   "source": [
    "# access the third row \n",
    "my_array[2]"
   ]
  },
  {
   "cell_type": "code",
   "execution_count": 186,
   "metadata": {},
   "outputs": [
    {
     "data": {
      "text/plain": [
       "array([30, 31, 32, 33, 34])"
      ]
     },
     "execution_count": 186,
     "metadata": {},
     "output_type": "execute_result"
    }
   ],
   "source": [
    "# we can use negative number for index as well\n",
    "my_array[-1]"
   ]
  },
  {
   "cell_type": "code",
   "execution_count": 187,
   "metadata": {},
   "outputs": [
    {
     "data": {
      "text/plain": [
       "13"
      ]
     },
     "execution_count": 187,
     "metadata": {},
     "output_type": "execute_result"
    }
   ],
   "source": [
    "# let's access the single element from an array suppose 3rd row 4th column element\n",
    "row = 2\n",
    "column = 3\n",
    "my_array[row, column]"
   ]
  },
  {
   "cell_type": "code",
   "execution_count": 188,
   "metadata": {},
   "outputs": [
    {
     "data": {
      "text/plain": [
       "13"
      ]
     },
     "execution_count": 188,
     "metadata": {},
     "output_type": "execute_result"
    }
   ],
   "source": [
    "# or we can access like this\n",
    "my_array[2, 3]"
   ]
  },
  {
   "cell_type": "code",
   "execution_count": 189,
   "metadata": {},
   "outputs": [
    {
     "data": {
      "text/plain": [
       "13"
      ]
     },
     "execution_count": 189,
     "metadata": {},
     "output_type": "execute_result"
    }
   ],
   "source": [
    "# or we can access from the element like this\n",
    "my_array[2][3]"
   ]
  },
  {
   "cell_type": "code",
   "execution_count": 190,
   "metadata": {},
   "outputs": [
    {
     "data": {
      "text/plain": [
       "array([[   0,    1,    2,    3,    4],\n",
       "       [   5,    6,    7,    8,    9],\n",
       "       [  10,   11,   12, 9999,   14],\n",
       "       [  15,   16,   17,   18,   19],\n",
       "       [  20,   21,   22,   23,   24],\n",
       "       [  25,   26,   27,   28,   29],\n",
       "       [  30,   31,   32,   33,   34]])"
      ]
     },
     "execution_count": 190,
     "metadata": {},
     "output_type": "execute_result"
    }
   ],
   "source": [
    "# to change the element inside an array\n",
    "my_array[2,3] = 9999\n",
    "my_array"
   ]
  },
  {
   "cell_type": "markdown",
   "metadata": {},
   "source": [
    "## Three Dimensional arrays"
   ]
  },
  {
   "cell_type": "code",
   "execution_count": 191,
   "metadata": {},
   "outputs": [
    {
     "data": {
      "text/plain": [
       "array([[[  0,   1,   2,   3,   4],\n",
       "        [  5,   6,   7,   8,   9],\n",
       "        [ 10,  11,  12,  13,  14],\n",
       "        [ 15,  16,  17,  18,  19],\n",
       "        [ 20,  21,  22,  23,  24],\n",
       "        [ 25,  26,  27,  28,  29],\n",
       "        [ 30,  31,  32,  33,  34]],\n",
       "\n",
       "       [[ 35,  36,  37,  38,  39],\n",
       "        [ 40,  41,  42,  43,  44],\n",
       "        [ 45,  46,  47,  48,  49],\n",
       "        [ 50,  51,  52,  53,  54],\n",
       "        [ 55,  56,  57,  58,  59],\n",
       "        [ 60,  61,  62,  63,  64],\n",
       "        [ 65,  66,  67,  68,  69]],\n",
       "\n",
       "       [[ 70,  71,  72,  73,  74],\n",
       "        [ 75,  76,  77,  78,  79],\n",
       "        [ 80,  81,  82,  83,  84],\n",
       "        [ 85,  86,  87,  88,  89],\n",
       "        [ 90,  91,  92,  93,  94],\n",
       "        [ 95,  96,  97,  98,  99],\n",
       "        [100, 101, 102, 103, 104]]])"
      ]
     },
     "execution_count": 191,
     "metadata": {},
     "output_type": "execute_result"
    }
   ],
   "source": [
    "# first parameter 3 specify there will be 3 rows inside 3d array\n",
    "# second parameter tell that each rows will have 7 row\n",
    "# third parameter tell each row will have 5 columns\n",
    "\n",
    "my_3D_array = np.arange(105)\n",
    "my_3D_array.shape = (3, 7, 5)\n",
    "my_3D_array"
   ]
  },
  {
   "cell_type": "code",
   "execution_count": 192,
   "metadata": {},
   "outputs": [
    {
     "data": {
      "text/plain": [
       "array([[35, 36, 37, 38, 39],\n",
       "       [40, 41, 42, 43, 44],\n",
       "       [45, 46, 47, 48, 49],\n",
       "       [50, 51, 52, 53, 54],\n",
       "       [55, 56, 57, 58, 59],\n",
       "       [60, 61, 62, 63, 64],\n",
       "       [65, 66, 67, 68, 69]])"
      ]
     },
     "execution_count": 192,
     "metadata": {},
     "output_type": "execute_result"
    }
   ],
   "source": [
    "# to access the 2nd 2d-array inside 3d array\n",
    "\n",
    "my_3D_array[1]"
   ]
  },
  {
   "cell_type": "code",
   "execution_count": 193,
   "metadata": {},
   "outputs": [
    {
     "data": {
      "text/plain": [
       "array([40, 41, 42, 43, 44])"
      ]
     },
     "execution_count": 193,
     "metadata": {},
     "output_type": "execute_result"
    }
   ],
   "source": [
    "# TO acces the row inside 2d-array\n",
    "\n",
    "my_3D_array[1, 1]"
   ]
  },
  {
   "cell_type": "code",
   "execution_count": 194,
   "metadata": {},
   "outputs": [
    {
     "data": {
      "text/plain": [
       "43"
      ]
     },
     "execution_count": 194,
     "metadata": {},
     "output_type": "execute_result"
    }
   ],
   "source": [
    "# to access the element inside 2d-array\n",
    "\n",
    "my_3D_array[1,1,3]"
   ]
  },
  {
   "cell_type": "code",
   "execution_count": 195,
   "metadata": {},
   "outputs": [
    {
     "data": {
      "text/plain": [
       "array([[  35,   36,   37,   38,   39],\n",
       "       [  40,   41,   42, 9999,   44],\n",
       "       [  45,   46,   47,   48,   49],\n",
       "       [  50,   51,   52,   53,   54],\n",
       "       [  55,   56,   57,   58,   59],\n",
       "       [  60,   61,   62,   63,   64],\n",
       "       [  65,   66,   67,   68,   69]])"
      ]
     },
     "execution_count": 195,
     "metadata": {},
     "output_type": "execute_result"
    }
   ],
   "source": [
    "# to change the element inside the array\n",
    "\n",
    "my_3D_array[1,1,3] = 9999\n",
    "my_3D_array[1]"
   ]
  },
  {
   "cell_type": "markdown",
   "metadata": {},
   "source": [
    "## Boolean Mask Arrays"
   ]
  },
  {
   "cell_type": "code",
   "execution_count": 196,
   "metadata": {},
   "outputs": [
    {
     "data": {
      "text/plain": [
       "array([False, False,  True, False,  True, False,  True])"
      ]
     },
     "execution_count": 196,
     "metadata": {},
     "output_type": "execute_result"
    }
   ],
   "source": [
    "# if the element in the array is divisible by 7 then it is mark as true\n",
    "\n",
    "my_vector = np.array([-17, -4, 0, 2, 21, 37,105])\n",
    "mode_values = 0 == (my_vector % 7)\n",
    "mode_values"
   ]
  },
  {
   "cell_type": "code",
   "execution_count": 197,
   "metadata": {},
   "outputs": [
    {
     "data": {
      "text/plain": [
       "array([False, False,  True, False,  True, False,  True])"
      ]
     },
     "execution_count": 197,
     "metadata": {},
     "output_type": "execute_result"
    }
   ],
   "source": [
    "# store all true and false value by comparing with the logical operator\n",
    "\n",
    "positive_value = mode_values > 0\n",
    "positive_value"
   ]
  },
  {
   "cell_type": "code",
   "execution_count": 198,
   "metadata": {},
   "outputs": [
    {
     "data": {
      "text/plain": [
       "array([False, False,  True, False,  True, False,  True])"
      ]
     },
     "execution_count": 198,
     "metadata": {},
     "output_type": "execute_result"
    }
   ],
   "source": [
    "# or store all true and false value using the numpy logical_and function\n",
    "\n",
    "combine_mask = np.logical_and(mode_values, positive_value)\n",
    "combine_mask"
   ]
  },
  {
   "cell_type": "code",
   "execution_count": 199,
   "metadata": {},
   "outputs": [
    {
     "data": {
      "text/plain": [
       "array([  0,  21, 105])"
      ]
     },
     "execution_count": 199,
     "metadata": {},
     "output_type": "execute_result"
    }
   ],
   "source": [
    "# display all the true value\n",
    "\n",
    "my_vector[combine_mask]"
   ]
  },
  {
   "cell_type": "code",
   "execution_count": 200,
   "metadata": {},
   "outputs": [
    {
     "data": {
      "text/plain": [
       "array([  0,  21, 105])"
      ]
     },
     "execution_count": 200,
     "metadata": {},
     "output_type": "execute_result"
    }
   ],
   "source": [
    "my_vector[positive_value]"
   ]
  },
  {
   "cell_type": "code",
   "execution_count": null,
   "metadata": {},
   "outputs": [],
   "source": []
  },
  {
   "cell_type": "code",
   "execution_count": 201,
   "metadata": {},
   "outputs": [
    {
     "data": {
      "text/plain": [
       "array([[[   -2,     3,     8,    13,    18],\n",
       "        [   23,    28,    33,    38,    43],\n",
       "        [   48,    53,    58,    63,    68],\n",
       "        [   73,    78,    83,    88,    93],\n",
       "        [   98,   103,   108,   113,   118],\n",
       "        [  123,   128,   133,   138,   143],\n",
       "        [  148,   153,   158,   163,   168]],\n",
       "\n",
       "       [[  173,   178,   183,   188,   193],\n",
       "        [  198,   203,   208, 49993,   218],\n",
       "        [  223,   228,   233,   238,   243],\n",
       "        [  248,   253,   258,   263,   268],\n",
       "        [  273,   278,   283,   288,   293],\n",
       "        [  298,   303,   308,   313,   318],\n",
       "        [  323,   328,   333,   338,   343]],\n",
       "\n",
       "       [[  348,   353,   358,   363,   368],\n",
       "        [  373,   378,   383,   388,   393],\n",
       "        [  398,   403,   408,   413,   418],\n",
       "        [  423,   428,   433,   438,   443],\n",
       "        [  448,   453,   458,   463,   468],\n",
       "        [  473,   478,   483,   488,   493],\n",
       "        [  498,   503,   508,   513,   518]]])"
      ]
     },
     "execution_count": 201,
     "metadata": {},
     "output_type": "execute_result"
    }
   ],
   "source": [
    "# multiple 5 with each element in the array and substract with 2\n",
    "\n",
    "5 * my_3D_array - 2"
   ]
  },
  {
   "cell_type": "code",
   "execution_count": 202,
   "metadata": {},
   "outputs": [
    {
     "name": "stdout",
     "output_type": "stream",
     "text": [
      "[[0 1 2]\n",
      " [3 4 5]]\n",
      "[[ 0  1  2  3  4]\n",
      " [ 5  6  7  8  9]\n",
      " [10 11 12 13 14]]\n"
     ]
    }
   ],
   "source": [
    "left = np.arange(6).reshape(2,3)\n",
    "right = np.arange(15).reshape(3,5)\n",
    "print(left)\n",
    "print(right)"
   ]
  },
  {
   "cell_type": "code",
   "execution_count": 203,
   "metadata": {},
   "outputs": [
    {
     "data": {
      "text/plain": [
       "array([[ 25,  28,  31,  34,  37],\n",
       "       [ 70,  82,  94, 106, 118]])"
      ]
     },
     "execution_count": 203,
     "metadata": {},
     "output_type": "execute_result"
    }
   ],
   "source": [
    "# it will give product of the two array\n",
    "\n",
    "np.dot(left, right)"
   ]
  },
  {
   "cell_type": "code",
   "execution_count": 204,
   "metadata": {},
   "outputs": [
    {
     "data": {
      "text/plain": [
       "6"
      ]
     },
     "execution_count": 204,
     "metadata": {},
     "output_type": "execute_result"
    }
   ],
   "source": [
    "# another simple example of dot\n",
    "\n",
    "np.dot(2,3)"
   ]
  },
  {
   "cell_type": "code",
   "execution_count": null,
   "metadata": {},
   "outputs": [],
   "source": []
  },
  {
   "cell_type": "markdown",
   "metadata": {},
   "source": [
    "## broadcast operations along axes"
   ]
  },
  {
   "cell_type": "code",
   "execution_count": 205,
   "metadata": {},
   "outputs": [
    {
     "data": {
      "text/plain": [
       "array([[[   0,    1,    2,    3,    4],\n",
       "        [   5,    6,    7,    8,    9],\n",
       "        [  10,   11,   12,   13,   14],\n",
       "        [  15,   16,   17,   18,   19],\n",
       "        [  20,   21,   22,   23,   24],\n",
       "        [  25,   26,   27,   28,   29],\n",
       "        [  30,   31,   32,   33,   34]],\n",
       "\n",
       "       [[  35,   36,   37,   38,   39],\n",
       "        [  40,   41,   42, 9999,   44],\n",
       "        [  45,   46,   47,   48,   49],\n",
       "        [  50,   51,   52,   53,   54],\n",
       "        [  55,   56,   57,   58,   59],\n",
       "        [  60,   61,   62,   63,   64],\n",
       "        [  65,   66,   67,   68,   69]],\n",
       "\n",
       "       [[  70,   71,   72,   73,   74],\n",
       "        [  75,   76,   77,   78,   79],\n",
       "        [  80,   81,   82,   83,   84],\n",
       "        [  85,   86,   87,   88,   89],\n",
       "        [  90,   91,   92,   93,   94],\n",
       "        [  95,   96,   97,   98,   99],\n",
       "        [ 100,  101,  102,  103,  104]]])"
      ]
     },
     "execution_count": 205,
     "metadata": {},
     "output_type": "execute_result"
    }
   ],
   "source": [
    "# baroadcast pleaase refer -> https://www.tutorialspoint.com/numpy/numpy_broadcasting.htm\n",
    "\n",
    "my_3D_array"
   ]
  },
  {
   "cell_type": "code",
   "execution_count": 206,
   "metadata": {},
   "outputs": [
    {
     "data": {
      "text/plain": [
       "15416"
      ]
     },
     "execution_count": 206,
     "metadata": {},
     "output_type": "execute_result"
    }
   ],
   "source": [
    "# to find the sum of all the elements in the array\n",
    "\n",
    "my_3D_array.sum()"
   ]
  },
  {
   "cell_type": "code",
   "execution_count": 207,
   "metadata": {},
   "outputs": [
    {
     "data": {
      "text/plain": [
       "array([[  105,   108,   111,   114,   117],\n",
       "       [  120,   123,   126, 10085,   132],\n",
       "       [  135,   138,   141,   144,   147],\n",
       "       [  150,   153,   156,   159,   162],\n",
       "       [  165,   168,   171,   174,   177],\n",
       "       [  180,   183,   186,   189,   192],\n",
       "       [  195,   198,   201,   204,   207]])"
      ]
     },
     "execution_count": 207,
     "metadata": {},
     "output_type": "execute_result"
    }
   ],
   "source": [
    "# in this all three 2d arrays that is inside 3d array are added up\n",
    "my_3D_array.sum(axis = 0)"
   ]
  },
  {
   "cell_type": "code",
   "execution_count": 208,
   "metadata": {},
   "outputs": [
    {
     "data": {
      "text/plain": [
       "array([[  105,   112,   119,   126,   133],\n",
       "       [  350,   357,   364, 10327,   378],\n",
       "       [  595,   602,   609,   616,   623]])"
      ]
     },
     "execution_count": 208,
     "metadata": {},
     "output_type": "execute_result"
    }
   ],
   "source": [
    "# when axis = 2 -> inside each 2d array  added up the first column will give -> 105, \n",
    "# adding second column will give -> 112 and so on and so forth\n",
    "\n",
    "my_3D_array.sum(axis = 1)"
   ]
  },
  {
   "cell_type": "code",
   "execution_count": 209,
   "metadata": {},
   "outputs": [
    {
     "data": {
      "text/plain": [
       "array([[   10,    35,    60,    85,   110,   135,   160],\n",
       "       [  185, 10166,   235,   260,   285,   310,   335],\n",
       "       [  360,   385,   410,   435,   460,   485,   510]])"
      ]
     },
     "execution_count": 209,
     "metadata": {},
     "output_type": "execute_result"
    }
   ],
   "source": [
    "# when axis = 2 -> inside each 2d array add up all the first row will give -> 10,\n",
    "# add up all the second row will give -> 35 and so on\n",
    "\n",
    "my_3D_array.sum(axis = 2)"
   ]
  },
  {
   "cell_type": "markdown",
   "metadata": {},
   "source": [
    "## Broadcast rule"
   ]
  },
  {
   "cell_type": "code",
   "execution_count": 210,
   "metadata": {},
   "outputs": [],
   "source": [
    "my_random_2D_array = np.random.random((7, 5))"
   ]
  },
  {
   "cell_type": "code",
   "execution_count": 211,
   "metadata": {},
   "outputs": [
    {
     "data": {
      "text/plain": [
       "array([[[8.14e-01, 1.92e+00, 2.00e+00, 3.51e+00, 4.07e+00],\n",
       "        [5.69e+00, 6.98e+00, 7.73e+00, 8.19e+00, 9.20e+00],\n",
       "        [1.02e+01, 1.12e+01, 1.20e+01, 1.40e+01, 1.46e+01],\n",
       "        [1.58e+01, 1.69e+01, 1.78e+01, 1.86e+01, 1.97e+01],\n",
       "        [2.02e+01, 2.17e+01, 2.21e+01, 2.31e+01, 2.42e+01],\n",
       "        [2.55e+01, 2.66e+01, 2.78e+01, 2.89e+01, 2.92e+01],\n",
       "        [3.05e+01, 3.13e+01, 3.30e+01, 3.34e+01, 3.44e+01]],\n",
       "\n",
       "       [[3.58e+01, 3.69e+01, 3.70e+01, 3.85e+01, 3.91e+01],\n",
       "        [4.07e+01, 4.20e+01, 4.27e+01, 1.00e+04, 4.42e+01],\n",
       "        [4.52e+01, 4.62e+01, 4.70e+01, 4.90e+01, 4.96e+01],\n",
       "        [5.08e+01, 5.19e+01, 5.28e+01, 5.36e+01, 5.47e+01],\n",
       "        [5.52e+01, 5.67e+01, 5.71e+01, 5.81e+01, 5.92e+01],\n",
       "        [6.05e+01, 6.16e+01, 6.28e+01, 6.39e+01, 6.42e+01],\n",
       "        [6.55e+01, 6.63e+01, 6.80e+01, 6.84e+01, 6.94e+01]],\n",
       "\n",
       "       [[7.08e+01, 7.19e+01, 7.20e+01, 7.35e+01, 7.41e+01],\n",
       "        [7.57e+01, 7.70e+01, 7.77e+01, 7.82e+01, 7.92e+01],\n",
       "        [8.02e+01, 8.12e+01, 8.20e+01, 8.40e+01, 8.46e+01],\n",
       "        [8.58e+01, 8.69e+01, 8.78e+01, 8.86e+01, 8.97e+01],\n",
       "        [9.02e+01, 9.17e+01, 9.21e+01, 9.31e+01, 9.42e+01],\n",
       "        [9.55e+01, 9.66e+01, 9.78e+01, 9.89e+01, 9.92e+01],\n",
       "        [1.01e+02, 1.01e+02, 1.03e+02, 1.03e+02, 1.04e+02]]])"
      ]
     },
     "execution_count": 211,
     "metadata": {},
     "output_type": "execute_result"
    }
   ],
   "source": [
    "# numpy is using broadcast rule to check compatibility between 2d array and 3d array to perform arthmetic operations through broadcasting\n",
    "\n",
    "# set the float value to only tow digit\n",
    "\n",
    "np.set_printoptions(precision=2)\n",
    "\n",
    "my_3D_array + my_random_2D_array"
   ]
  },
  {
   "cell_type": "code",
   "execution_count": 212,
   "metadata": {},
   "outputs": [
    {
     "data": {
      "text/plain": [
       "array([0, 2, 4, 6, 8])"
      ]
     },
     "execution_count": 212,
     "metadata": {},
     "output_type": "execute_result"
    }
   ],
   "source": [
    "# again numpy is using broadcast rule to check the compatibility between 1d array and 3d array.\n",
    "\n",
    "one_D_array = np.arange(5) * 2\n",
    "\n",
    "one_D_array"
   ]
  },
  {
   "cell_type": "code",
   "execution_count": 213,
   "metadata": {},
   "outputs": [
    {
     "data": {
      "text/plain": [
       "array([[[    0,     2,     8,    18,    32],\n",
       "        [    0,    12,    28,    48,    72],\n",
       "        [    0,    22,    48,    78,   112],\n",
       "        [    0,    32,    68,   108,   152],\n",
       "        [    0,    42,    88,   138,   192],\n",
       "        [    0,    52,   108,   168,   232],\n",
       "        [    0,    62,   128,   198,   272]],\n",
       "\n",
       "       [[    0,    72,   148,   228,   312],\n",
       "        [    0,    82,   168, 59994,   352],\n",
       "        [    0,    92,   188,   288,   392],\n",
       "        [    0,   102,   208,   318,   432],\n",
       "        [    0,   112,   228,   348,   472],\n",
       "        [    0,   122,   248,   378,   512],\n",
       "        [    0,   132,   268,   408,   552]],\n",
       "\n",
       "       [[    0,   142,   288,   438,   592],\n",
       "        [    0,   152,   308,   468,   632],\n",
       "        [    0,   162,   328,   498,   672],\n",
       "        [    0,   172,   348,   528,   712],\n",
       "        [    0,   182,   368,   558,   752],\n",
       "        [    0,   192,   388,   588,   792],\n",
       "        [    0,   202,   408,   618,   832]]])"
      ]
     },
     "execution_count": 213,
     "metadata": {},
     "output_type": "execute_result"
    }
   ],
   "source": [
    "# multiply 1D array with 3D array \n",
    "\n",
    "my_3D_array * one_D_array"
   ]
  },
  {
   "cell_type": "markdown",
   "metadata": {},
   "source": [
    "## flatten()"
   ]
  },
  {
   "cell_type": "code",
   "execution_count": 214,
   "metadata": {},
   "outputs": [
    {
     "data": {
      "text/plain": [
       "array([0.81, 0.92, 0.  , 0.51, 0.07, 0.69, 0.98, 0.73, 0.19, 0.2 , 0.23,\n",
       "       0.2 , 0.01, 0.99, 0.62, 0.84, 0.87, 0.82, 0.57, 0.74, 0.22, 0.7 ,\n",
       "       0.12, 0.08, 0.17, 0.49, 0.63, 0.8 , 0.89, 0.16, 0.51, 0.29, 0.97,\n",
       "       0.43, 0.36])"
      ]
     },
     "execution_count": 214,
     "metadata": {},
     "output_type": "execute_result"
    }
   ],
   "source": [
    "# Convert 2D array to 1D array\n",
    "\n",
    "my_random_2D_array.flatten()"
   ]
  },
  {
   "cell_type": "markdown",
   "metadata": {},
   "source": [
    "## T (transpose)"
   ]
  },
  {
   "cell_type": "code",
   "execution_count": 215,
   "metadata": {},
   "outputs": [
    {
     "data": {
      "text/plain": [
       "array([[0, 1, 2, 3, 4],\n",
       "       [5, 6, 7, 8, 9]])"
      ]
     },
     "execution_count": 215,
     "metadata": {},
     "output_type": "execute_result"
    }
   ],
   "source": [
    "reverse = np.arange(10).reshape(2,5)\n",
    "reverse"
   ]
  },
  {
   "cell_type": "code",
   "execution_count": 216,
   "metadata": {},
   "outputs": [
    {
     "data": {
      "text/plain": [
       "array([[0, 5],\n",
       "       [1, 6],\n",
       "       [2, 7],\n",
       "       [3, 8],\n",
       "       [4, 9]])"
      ]
     },
     "execution_count": 216,
     "metadata": {},
     "output_type": "execute_result"
    }
   ],
   "source": [
    "# replace row to column and columns to row\n",
    "\n",
    "reverse.T"
   ]
  },
  {
   "cell_type": "markdown",
   "metadata": {},
   "source": [
    "## reshape()"
   ]
  },
  {
   "cell_type": "code",
   "execution_count": 217,
   "metadata": {},
   "outputs": [
    {
     "data": {
      "text/plain": [
       "array([[0, 1, 2, 3, 4],\n",
       "       [5, 6, 7, 8, 9]])"
      ]
     },
     "execution_count": 217,
     "metadata": {},
     "output_type": "execute_result"
    }
   ],
   "source": [
    "reverse.reshape(2,5)"
   ]
  },
  {
   "cell_type": "markdown",
   "metadata": {},
   "source": []
  },
  {
   "cell_type": "code",
   "execution_count": null,
   "metadata": {},
   "outputs": [],
   "source": []
  },
  {
   "cell_type": "code",
   "execution_count": null,
   "metadata": {},
   "outputs": [],
   "source": []
  }
 ],
 "metadata": {
  "kernelspec": {
   "display_name": "Python 3",
   "language": "python",
   "name": "python3"
  },
  "language_info": {
   "codemirror_mode": {
    "name": "ipython",
    "version": 3
   },
   "file_extension": ".py",
   "mimetype": "text/x-python",
   "name": "python",
   "nbconvert_exporter": "python",
   "pygments_lexer": "ipython3",
   "version": "3.7.4"
  }
 },
 "nbformat": 4,
 "nbformat_minor": 4
}

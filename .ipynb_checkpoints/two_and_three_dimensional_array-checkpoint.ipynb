{
 "cells": [
  {
   "cell_type": "markdown",
   "metadata": {},
   "source": [
    "## Two dimensional arrays"
   ]
  },
  {
   "cell_type": "code",
   "execution_count": 97,
   "metadata": {},
   "outputs": [],
   "source": [
    "import numpy as np"
   ]
  },
  {
   "cell_type": "code",
   "execution_count": 12,
   "metadata": {},
   "outputs": [
    {
     "data": {
      "text/plain": [
       "array([[ 0,  1,  2,  3,  4],\n",
       "       [ 5,  6,  7,  8,  9],\n",
       "       [10, 11, 12, 13, 14],\n",
       "       [15, 16, 17, 18, 19],\n",
       "       [20, 21, 22, 23, 24],\n",
       "       [25, 26, 27, 28, 29],\n",
       "       [30, 31, 32, 33, 34]])"
      ]
     },
     "execution_count": 12,
     "metadata": {},
     "output_type": "execute_result"
    }
   ],
   "source": [
    "my_array = np.arange(35)\n",
    "my_array.shape = (7,5)\n",
    "my_array"
   ]
  },
  {
   "cell_type": "code",
   "execution_count": 13,
   "metadata": {},
   "outputs": [
    {
     "data": {
      "text/plain": [
       "array([10, 11, 12, 13, 14])"
      ]
     },
     "execution_count": 13,
     "metadata": {},
     "output_type": "execute_result"
    }
   ],
   "source": [
    "# access the third row \n",
    "my_array[2]"
   ]
  },
  {
   "cell_type": "code",
   "execution_count": 14,
   "metadata": {},
   "outputs": [
    {
     "data": {
      "text/plain": [
       "array([30, 31, 32, 33, 34])"
      ]
     },
     "execution_count": 14,
     "metadata": {},
     "output_type": "execute_result"
    }
   ],
   "source": [
    "# we can use negative number for index as well\n",
    "my_array[-1]"
   ]
  },
  {
   "cell_type": "code",
   "execution_count": 15,
   "metadata": {},
   "outputs": [
    {
     "data": {
      "text/plain": [
       "13"
      ]
     },
     "execution_count": 15,
     "metadata": {},
     "output_type": "execute_result"
    }
   ],
   "source": [
    "# let's access the single element from an array suppose 3rd row 4th column element\n",
    "row = 2\n",
    "column = 3\n",
    "my_array[row, column]"
   ]
  },
  {
   "cell_type": "code",
   "execution_count": 16,
   "metadata": {},
   "outputs": [
    {
     "data": {
      "text/plain": [
       "13"
      ]
     },
     "execution_count": 16,
     "metadata": {},
     "output_type": "execute_result"
    }
   ],
   "source": [
    "# or we can access like this\n",
    "my_array[2, 3]"
   ]
  },
  {
   "cell_type": "code",
   "execution_count": 17,
   "metadata": {},
   "outputs": [
    {
     "data": {
      "text/plain": [
       "13"
      ]
     },
     "execution_count": 17,
     "metadata": {},
     "output_type": "execute_result"
    }
   ],
   "source": [
    "# or we can access from the element like this\n",
    "my_array[2][3]"
   ]
  },
  {
   "cell_type": "code",
   "execution_count": 18,
   "metadata": {},
   "outputs": [
    {
     "data": {
      "text/plain": [
       "array([[   0,    1,    2,    3,    4],\n",
       "       [   5,    6,    7,    8,    9],\n",
       "       [  10,   11,   12, 9999,   14],\n",
       "       [  15,   16,   17,   18,   19],\n",
       "       [  20,   21,   22,   23,   24],\n",
       "       [  25,   26,   27,   28,   29],\n",
       "       [  30,   31,   32,   33,   34]])"
      ]
     },
     "execution_count": 18,
     "metadata": {},
     "output_type": "execute_result"
    }
   ],
   "source": [
    "# to change the element inside an array\n",
    "my_array[2,3] = 9999\n",
    "my_array"
   ]
  },
  {
   "cell_type": "markdown",
   "metadata": {},
   "source": [
    "## Three Dimensional arrays"
   ]
  },
  {
   "cell_type": "code",
   "execution_count": 19,
   "metadata": {},
   "outputs": [
    {
     "data": {
      "text/plain": [
       "array([[[  0,   1,   2,   3,   4],\n",
       "        [  5,   6,   7,   8,   9],\n",
       "        [ 10,  11,  12,  13,  14],\n",
       "        [ 15,  16,  17,  18,  19],\n",
       "        [ 20,  21,  22,  23,  24],\n",
       "        [ 25,  26,  27,  28,  29],\n",
       "        [ 30,  31,  32,  33,  34]],\n",
       "\n",
       "       [[ 35,  36,  37,  38,  39],\n",
       "        [ 40,  41,  42,  43,  44],\n",
       "        [ 45,  46,  47,  48,  49],\n",
       "        [ 50,  51,  52,  53,  54],\n",
       "        [ 55,  56,  57,  58,  59],\n",
       "        [ 60,  61,  62,  63,  64],\n",
       "        [ 65,  66,  67,  68,  69]],\n",
       "\n",
       "       [[ 70,  71,  72,  73,  74],\n",
       "        [ 75,  76,  77,  78,  79],\n",
       "        [ 80,  81,  82,  83,  84],\n",
       "        [ 85,  86,  87,  88,  89],\n",
       "        [ 90,  91,  92,  93,  94],\n",
       "        [ 95,  96,  97,  98,  99],\n",
       "        [100, 101, 102, 103, 104]]])"
      ]
     },
     "execution_count": 19,
     "metadata": {},
     "output_type": "execute_result"
    }
   ],
   "source": [
    "# first parameter 3 specify there will be 3 rows inside 3d array\n",
    "# second parameter tell that each rows will have 7 row\n",
    "# third parameter tell each row will have 5 columns\n",
    "\n",
    "my_3D_array = np.arange(105)\n",
    "my_3D_array.shape = (3, 7, 5)\n",
    "my_3D_array"
   ]
  },
  {
   "cell_type": "code",
   "execution_count": 20,
   "metadata": {},
   "outputs": [
    {
     "data": {
      "text/plain": [
       "array([[35, 36, 37, 38, 39],\n",
       "       [40, 41, 42, 43, 44],\n",
       "       [45, 46, 47, 48, 49],\n",
       "       [50, 51, 52, 53, 54],\n",
       "       [55, 56, 57, 58, 59],\n",
       "       [60, 61, 62, 63, 64],\n",
       "       [65, 66, 67, 68, 69]])"
      ]
     },
     "execution_count": 20,
     "metadata": {},
     "output_type": "execute_result"
    }
   ],
   "source": [
    "# to access the 2nd 2d-array inside 3d array\n",
    "\n",
    "my_3D_array[1]"
   ]
  },
  {
   "cell_type": "code",
   "execution_count": 21,
   "metadata": {},
   "outputs": [
    {
     "data": {
      "text/plain": [
       "array([40, 41, 42, 43, 44])"
      ]
     },
     "execution_count": 21,
     "metadata": {},
     "output_type": "execute_result"
    }
   ],
   "source": [
    "# TO acces the row inside 2d-array\n",
    "\n",
    "my_3D_array[1, 1]"
   ]
  },
  {
   "cell_type": "code",
   "execution_count": 22,
   "metadata": {},
   "outputs": [
    {
     "data": {
      "text/plain": [
       "43"
      ]
     },
     "execution_count": 22,
     "metadata": {},
     "output_type": "execute_result"
    }
   ],
   "source": [
    "# to access the element inside 2d-array\n",
    "\n",
    "my_3D_array[1,1,3]"
   ]
  },
  {
   "cell_type": "code",
   "execution_count": 23,
   "metadata": {},
   "outputs": [
    {
     "data": {
      "text/plain": [
       "array([[  35,   36,   37,   38,   39],\n",
       "       [  40,   41,   42, 9999,   44],\n",
       "       [  45,   46,   47,   48,   49],\n",
       "       [  50,   51,   52,   53,   54],\n",
       "       [  55,   56,   57,   58,   59],\n",
       "       [  60,   61,   62,   63,   64],\n",
       "       [  65,   66,   67,   68,   69]])"
      ]
     },
     "execution_count": 23,
     "metadata": {},
     "output_type": "execute_result"
    }
   ],
   "source": [
    "# to change the element inside the array\n",
    "\n",
    "my_3D_array[1,1,3] = 9999\n",
    "my_3D_array[1]"
   ]
  },
  {
   "cell_type": "markdown",
   "metadata": {},
   "source": [
    "## Boolean Mask Arrays"
   ]
  },
  {
   "cell_type": "code",
   "execution_count": 24,
   "metadata": {},
   "outputs": [
    {
     "data": {
      "text/plain": [
       "array([False, False,  True, False,  True, False,  True])"
      ]
     },
     "execution_count": 24,
     "metadata": {},
     "output_type": "execute_result"
    }
   ],
   "source": [
    "# if the element in the array is divisible by 7 then it is mark as true\n",
    "\n",
    "my_vector = np.array([-17, -4, 0, 2, 21, 37,105])\n",
    "mode_values = 0 == (my_vector % 7)\n",
    "mode_values"
   ]
  },
  {
   "cell_type": "code",
   "execution_count": 25,
   "metadata": {},
   "outputs": [
    {
     "data": {
      "text/plain": [
       "array([False, False,  True, False,  True, False,  True])"
      ]
     },
     "execution_count": 25,
     "metadata": {},
     "output_type": "execute_result"
    }
   ],
   "source": [
    "# store all true and false value by comparing with the logical operator\n",
    "\n",
    "positive_value = mode_values > 0\n",
    "positive_value"
   ]
  },
  {
   "cell_type": "code",
   "execution_count": 26,
   "metadata": {},
   "outputs": [
    {
     "data": {
      "text/plain": [
       "array([False, False,  True, False,  True, False,  True])"
      ]
     },
     "execution_count": 26,
     "metadata": {},
     "output_type": "execute_result"
    }
   ],
   "source": [
    "# or store all true and false value using the numpy logical_and function\n",
    "\n",
    "combine_mask = np.logical_and(mode_values, positive_value)\n",
    "combine_mask"
   ]
  },
  {
   "cell_type": "code",
   "execution_count": 27,
   "metadata": {},
   "outputs": [
    {
     "data": {
      "text/plain": [
       "array([  0,  21, 105])"
      ]
     },
     "execution_count": 27,
     "metadata": {},
     "output_type": "execute_result"
    }
   ],
   "source": [
    "# display all the true value\n",
    "\n",
    "my_vector[combine_mask]"
   ]
  },
  {
   "cell_type": "code",
   "execution_count": 28,
   "metadata": {},
   "outputs": [
    {
     "data": {
      "text/plain": [
       "array([  0,  21, 105])"
      ]
     },
     "execution_count": 28,
     "metadata": {},
     "output_type": "execute_result"
    }
   ],
   "source": [
    "my_vector[positive_value]"
   ]
  },
  {
   "cell_type": "code",
   "execution_count": null,
   "metadata": {},
   "outputs": [],
   "source": []
  },
  {
   "cell_type": "code",
   "execution_count": 33,
   "metadata": {},
   "outputs": [
    {
     "data": {
      "text/plain": [
       "array([[[   -2,     3,     8,    13,    18],\n",
       "        [   23,    28,    33,    38,    43],\n",
       "        [   48,    53,    58,    63,    68],\n",
       "        [   73,    78,    83,    88,    93],\n",
       "        [   98,   103,   108,   113,   118],\n",
       "        [  123,   128,   133,   138,   143],\n",
       "        [  148,   153,   158,   163,   168]],\n",
       "\n",
       "       [[  173,   178,   183,   188,   193],\n",
       "        [  198,   203,   208, 49993,   218],\n",
       "        [  223,   228,   233,   238,   243],\n",
       "        [  248,   253,   258,   263,   268],\n",
       "        [  273,   278,   283,   288,   293],\n",
       "        [  298,   303,   308,   313,   318],\n",
       "        [  323,   328,   333,   338,   343]],\n",
       "\n",
       "       [[  348,   353,   358,   363,   368],\n",
       "        [  373,   378,   383,   388,   393],\n",
       "        [  398,   403,   408,   413,   418],\n",
       "        [  423,   428,   433,   438,   443],\n",
       "        [  448,   453,   458,   463,   468],\n",
       "        [  473,   478,   483,   488,   493],\n",
       "        [  498,   503,   508,   513,   518]]])"
      ]
     },
     "execution_count": 33,
     "metadata": {},
     "output_type": "execute_result"
    }
   ],
   "source": [
    "# multiple 5 with each element in the array and substract with 2\n",
    "\n",
    "5 * my_3D_array - 2"
   ]
  },
  {
   "cell_type": "code",
   "execution_count": 112,
   "metadata": {},
   "outputs": [
    {
     "name": "stdout",
     "output_type": "stream",
     "text": [
      "[[0 1 2]\n",
      " [3 4 5]]\n",
      "[[ 0  1  2  3  4]\n",
      " [ 5  6  7  8  9]\n",
      " [10 11 12 13 14]]\n"
     ]
    }
   ],
   "source": [
    "left = np.arange(6).reshape(2,3)\n",
    "right = np.arange(15).reshape(3,5)\n",
    "print(left)\n",
    "print(right)"
   ]
  },
  {
   "cell_type": "code",
   "execution_count": 113,
   "metadata": {},
   "outputs": [
    {
     "data": {
      "text/plain": [
       "array([[ 25,  28,  31,  34,  37],\n",
       "       [ 70,  82,  94, 106, 118]])"
      ]
     },
     "execution_count": 113,
     "metadata": {},
     "output_type": "execute_result"
    }
   ],
   "source": [
    "# it will give product of the two array\n",
    "\n",
    "np.dot(left, right)"
   ]
  },
  {
   "cell_type": "code",
   "execution_count": 114,
   "metadata": {},
   "outputs": [
    {
     "data": {
      "text/plain": [
       "6"
      ]
     },
     "execution_count": 114,
     "metadata": {},
     "output_type": "execute_result"
    }
   ],
   "source": [
    "# another simple example of dot\n",
    "\n",
    "np.dot(2,3)"
   ]
  },
  {
   "cell_type": "code",
   "execution_count": null,
   "metadata": {},
   "outputs": [],
   "source": []
  },
  {
   "cell_type": "markdown",
   "metadata": {},
   "source": [
    "## broadcast operations along axes"
   ]
  },
  {
   "cell_type": "code",
   "execution_count": 127,
   "metadata": {},
   "outputs": [
    {
     "data": {
      "text/plain": [
       "array([[[   0,    1,    2,    3,    4],\n",
       "        [   5,    6,    7,    8,    9],\n",
       "        [  10,   11,   12,   13,   14],\n",
       "        [  15,   16,   17,   18,   19],\n",
       "        [  20,   21,   22,   23,   24],\n",
       "        [  25,   26,   27,   28,   29],\n",
       "        [  30,   31,   32,   33,   34]],\n",
       "\n",
       "       [[  35,   36,   37,   38,   39],\n",
       "        [  40,   41,   42, 9999,   44],\n",
       "        [  45,   46,   47,   48,   49],\n",
       "        [  50,   51,   52,   53,   54],\n",
       "        [  55,   56,   57,   58,   59],\n",
       "        [  60,   61,   62,   63,   64],\n",
       "        [  65,   66,   67,   68,   69]],\n",
       "\n",
       "       [[  70,   71,   72,   73,   74],\n",
       "        [  75,   76,   77,   78,   79],\n",
       "        [  80,   81,   82,   83,   84],\n",
       "        [  85,   86,   87,   88,   89],\n",
       "        [  90,   91,   92,   93,   94],\n",
       "        [  95,   96,   97,   98,   99],\n",
       "        [ 100,  101,  102,  103,  104]]])"
      ]
     },
     "execution_count": 127,
     "metadata": {},
     "output_type": "execute_result"
    }
   ],
   "source": [
    "# baroadcast pleaase refer -> https://www.tutorialspoint.com/numpy/numpy_broadcasting.htm\n",
    "\n",
    "my_3D_array"
   ]
  },
  {
   "cell_type": "code",
   "execution_count": 37,
   "metadata": {},
   "outputs": [
    {
     "data": {
      "text/plain": [
       "15416"
      ]
     },
     "execution_count": 37,
     "metadata": {},
     "output_type": "execute_result"
    }
   ],
   "source": [
    "# to find the sum of all the elements in the array\n",
    "\n",
    "my_3D_array.sum()"
   ]
  },
  {
   "cell_type": "code",
   "execution_count": 38,
   "metadata": {},
   "outputs": [
    {
     "data": {
      "text/plain": [
       "array([[  105,   108,   111,   114,   117],\n",
       "       [  120,   123,   126, 10085,   132],\n",
       "       [  135,   138,   141,   144,   147],\n",
       "       [  150,   153,   156,   159,   162],\n",
       "       [  165,   168,   171,   174,   177],\n",
       "       [  180,   183,   186,   189,   192],\n",
       "       [  195,   198,   201,   204,   207]])"
      ]
     },
     "execution_count": 38,
     "metadata": {},
     "output_type": "execute_result"
    }
   ],
   "source": [
    "# in this all three 2d arrays that is inside 3d array are added up\n",
    "my_3D_array.sum(axis = 0)"
   ]
  },
  {
   "cell_type": "code",
   "execution_count": 39,
   "metadata": {},
   "outputs": [
    {
     "data": {
      "text/plain": [
       "array([[  105,   112,   119,   126,   133],\n",
       "       [  350,   357,   364, 10327,   378],\n",
       "       [  595,   602,   609,   616,   623]])"
      ]
     },
     "execution_count": 39,
     "metadata": {},
     "output_type": "execute_result"
    }
   ],
   "source": [
    "# when axis = 2 -> inside each 2d array  added up the first column will give -> 105, \n",
    "# adding second column will give -> 112 and so on and so forth\n",
    "\n",
    "my_3D_array.sum(axis = 1)"
   ]
  },
  {
   "cell_type": "code",
   "execution_count": 40,
   "metadata": {},
   "outputs": [
    {
     "data": {
      "text/plain": [
       "array([[   10,    35,    60,    85,   110,   135,   160],\n",
       "       [  185, 10166,   235,   260,   285,   310,   335],\n",
       "       [  360,   385,   410,   435,   460,   485,   510]])"
      ]
     },
     "execution_count": 40,
     "metadata": {},
     "output_type": "execute_result"
    }
   ],
   "source": [
    "# when axis = 2 -> inside each 2d array add up all the first row will give -> 10,\n",
    "# add up all the second row will give -> 35 and so on\n",
    "\n",
    "my_3D_array.sum(axis = 2)"
   ]
  },
  {
   "cell_type": "markdown",
   "metadata": {},
   "source": [
    "## Broadcast rule"
   ]
  },
  {
   "cell_type": "code",
   "execution_count": 53,
   "metadata": {},
   "outputs": [],
   "source": [
    "my_random_2D_array = np.random.random((7, 5))"
   ]
  },
  {
   "cell_type": "code",
   "execution_count": 55,
   "metadata": {},
   "outputs": [
    {
     "data": {
      "text/plain": [
       "array([[[3.78e-01, 1.38e+00, 2.72e+00, 3.04e+00, 4.73e+00],\n",
       "        [5.63e+00, 6.50e+00, 7.30e+00, 8.37e+00, 9.31e+00],\n",
       "        [1.10e+01, 1.18e+01, 1.28e+01, 1.38e+01, 1.46e+01],\n",
       "        [1.52e+01, 1.65e+01, 1.74e+01, 1.83e+01, 1.96e+01],\n",
       "        [2.10e+01, 2.17e+01, 2.21e+01, 2.32e+01, 2.42e+01],\n",
       "        [2.55e+01, 2.66e+01, 2.75e+01, 2.87e+01, 2.92e+01],\n",
       "        [3.05e+01, 3.12e+01, 3.23e+01, 3.34e+01, 3.50e+01]],\n",
       "\n",
       "       [[3.54e+01, 3.64e+01, 3.77e+01, 3.80e+01, 3.97e+01],\n",
       "        [4.06e+01, 4.15e+01, 4.23e+01, 1.00e+04, 4.43e+01],\n",
       "        [4.60e+01, 4.68e+01, 4.78e+01, 4.88e+01, 4.96e+01],\n",
       "        [5.02e+01, 5.15e+01, 5.24e+01, 5.33e+01, 5.46e+01],\n",
       "        [5.60e+01, 5.67e+01, 5.71e+01, 5.82e+01, 5.92e+01],\n",
       "        [6.05e+01, 6.16e+01, 6.25e+01, 6.37e+01, 6.42e+01],\n",
       "        [6.55e+01, 6.62e+01, 6.73e+01, 6.84e+01, 7.00e+01]],\n",
       "\n",
       "       [[7.04e+01, 7.14e+01, 7.27e+01, 7.30e+01, 7.47e+01],\n",
       "        [7.56e+01, 7.65e+01, 7.73e+01, 7.84e+01, 7.93e+01],\n",
       "        [8.10e+01, 8.18e+01, 8.28e+01, 8.38e+01, 8.46e+01],\n",
       "        [8.52e+01, 8.65e+01, 8.74e+01, 8.83e+01, 8.96e+01],\n",
       "        [9.10e+01, 9.17e+01, 9.21e+01, 9.32e+01, 9.42e+01],\n",
       "        [9.55e+01, 9.66e+01, 9.75e+01, 9.87e+01, 9.92e+01],\n",
       "        [1.01e+02, 1.01e+02, 1.02e+02, 1.03e+02, 1.05e+02]]])"
      ]
     },
     "execution_count": 55,
     "metadata": {},
     "output_type": "execute_result"
    }
   ],
   "source": [
    "# numpy is using broadcast rule to check compatibility between 2d array and 3d array to perform arthmetic operations through broadcasting\n",
    "\n",
    "# set the float value to only tow digit\n",
    "\n",
    "np.set_printoptions(precision=2)\n",
    "\n",
    "my_3D_array + my_random_2D_array"
   ]
  },
  {
   "cell_type": "code",
   "execution_count": 122,
   "metadata": {},
   "outputs": [
    {
     "data": {
      "text/plain": [
       "array([0, 2, 4, 6, 8])"
      ]
     },
     "execution_count": 122,
     "metadata": {},
     "output_type": "execute_result"
    }
   ],
   "source": [
    "# again numpy is using broadcast rule to check the compatibility between 1d array and 3d array.\n",
    "\n",
    "one_D_array = np.arange(5) * 2\n",
    "\n",
    "one_D_array"
   ]
  },
  {
   "cell_type": "code",
   "execution_count": 125,
   "metadata": {},
   "outputs": [
    {
     "data": {
      "text/plain": [
       "array([[[    0,     2,     8,    18,    32],\n",
       "        [    0,    12,    28,    48,    72],\n",
       "        [    0,    22,    48,    78,   112],\n",
       "        [    0,    32,    68,   108,   152],\n",
       "        [    0,    42,    88,   138,   192],\n",
       "        [    0,    52,   108,   168,   232],\n",
       "        [    0,    62,   128,   198,   272]],\n",
       "\n",
       "       [[    0,    72,   148,   228,   312],\n",
       "        [    0,    82,   168, 59994,   352],\n",
       "        [    0,    92,   188,   288,   392],\n",
       "        [    0,   102,   208,   318,   432],\n",
       "        [    0,   112,   228,   348,   472],\n",
       "        [    0,   122,   248,   378,   512],\n",
       "        [    0,   132,   268,   408,   552]],\n",
       "\n",
       "       [[    0,   142,   288,   438,   592],\n",
       "        [    0,   152,   308,   468,   632],\n",
       "        [    0,   162,   328,   498,   672],\n",
       "        [    0,   172,   348,   528,   712],\n",
       "        [    0,   182,   368,   558,   752],\n",
       "        [    0,   192,   388,   588,   792],\n",
       "        [    0,   202,   408,   618,   832]]])"
      ]
     },
     "execution_count": 125,
     "metadata": {},
     "output_type": "execute_result"
    }
   ],
   "source": [
    "# multiply 1D array with 3D array \n",
    "\n",
    "my_3D_array * one_D_array"
   ]
  },
  {
   "cell_type": "markdown",
   "metadata": {},
   "source": [
    "## flatten()"
   ]
  },
  {
   "cell_type": "code",
   "execution_count": 47,
   "metadata": {},
   "outputs": [
    {
     "data": {
      "text/plain": [
       "array([0.8 , 0.64, 0.18, 0.38, 0.49, 0.51, 0.33, 0.78, 0.55, 0.56, 0.61,\n",
       "       0.73, 0.82, 0.44, 0.09, 0.61, 0.41, 0.04, 0.74, 0.25, 0.06, 0.14,\n",
       "       0.56, 0.77, 0.85, 0.47, 0.29, 0.79, 0.09, 0.7 , 0.88, 0.75, 0.36,\n",
       "       0.07, 0.9 ])"
      ]
     },
     "execution_count": 47,
     "metadata": {},
     "output_type": "execute_result"
    }
   ],
   "source": [
    "# Convert 2D array to 1D array\n",
    "\n",
    "my_random_2D_array.flatten()"
   ]
  },
  {
   "cell_type": "markdown",
   "metadata": {},
   "source": [
    "## T (transpose)"
   ]
  },
  {
   "cell_type": "code",
   "execution_count": 129,
   "metadata": {},
   "outputs": [
    {
     "data": {
      "text/plain": [
       "array([[0, 1, 2, 3, 4],\n",
       "       [5, 6, 7, 8, 9]])"
      ]
     },
     "execution_count": 129,
     "metadata": {},
     "output_type": "execute_result"
    }
   ],
   "source": [
    "reverse = np.arange(10).reshape(2,5)\n",
    "reverse"
   ]
  },
  {
   "cell_type": "code",
   "execution_count": 130,
   "metadata": {},
   "outputs": [
    {
     "data": {
      "text/plain": [
       "array([[0, 5],\n",
       "       [1, 6],\n",
       "       [2, 7],\n",
       "       [3, 8],\n",
       "       [4, 9]])"
      ]
     },
     "execution_count": 130,
     "metadata": {},
     "output_type": "execute_result"
    }
   ],
   "source": [
    "# replace row to column and columns to row\n",
    "\n",
    "reverse.T"
   ]
  },
  {
   "cell_type": "markdown",
   "metadata": {},
   "source": [
    "## reshape()"
   ]
  },
  {
   "cell_type": "code",
   "execution_count": 93,
   "metadata": {},
   "outputs": [
    {
     "data": {
      "text/plain": [
       "array([[0, 1, 2, 3, 4],\n",
       "       [5, 6, 7, 8, 9]])"
      ]
     },
     "execution_count": 93,
     "metadata": {},
     "output_type": "execute_result"
    }
   ],
   "source": [
    "reverse.reshape(2,5)"
   ]
  },
  {
   "cell_type": "markdown",
   "metadata": {},
   "source": []
  },
  {
   "cell_type": "code",
   "execution_count": null,
   "metadata": {},
   "outputs": [],
   "source": []
  },
  {
   "cell_type": "code",
   "execution_count": null,
   "metadata": {},
   "outputs": [],
   "source": []
  },
  {
   "cell_type": "code",
   "execution_count": null,
   "metadata": {},
   "outputs": [],
   "source": []
  },
  {
   "cell_type": "code",
   "execution_count": null,
   "metadata": {},
   "outputs": [],
   "source": []
  },
  {
   "cell_type": "code",
   "execution_count": null,
   "metadata": {},
   "outputs": [],
   "source": []
  }
 ],
 "metadata": {
  "kernelspec": {
   "display_name": "Python 3",
   "language": "python",
   "name": "python3"
  },
  "language_info": {
   "codemirror_mode": {
    "name": "ipython",
    "version": 3
   },
   "file_extension": ".py",
   "mimetype": "text/x-python",
   "name": "python",
   "nbconvert_exporter": "python",
   "pygments_lexer": "ipython3",
   "version": "3.7.4"
  }
 },
 "nbformat": 4,
 "nbformat_minor": 4
}
